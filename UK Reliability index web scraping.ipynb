{
 "cells": [
  {
   "cell_type": "code",
   "execution_count": 1,
   "metadata": {},
   "outputs": [],
   "source": [
    "from requests import get\n",
    "import pandas as pd\n",
    "from bs4 import BeautifulSoup\n",
    "import numpy as np"
   ]
  },
  {
   "cell_type": "markdown",
   "metadata": {},
   "source": [
    "### We want to scrape all 333 car model names, car types, and reliability indexes from https://www.reliabilityindex.com. The format for each car's url is \"https://www.reliabilityindex.com/reliability/search/{i}\" where {i} is substituted for the desired car number. To scrape the information for the 333 cars, we first create two empty lists: car_model and reliability_index. Then we run a for loop to create a url for each car number. Then we create a response object using a get request for each url and then pass that response to BeautifulSoup to create a bs4 object. We then search the soup object to find the required information, format the strings, and append each car's information to the corresponding list."
   ]
  },
  {
   "cell_type": "code",
   "execution_count": 2,
   "metadata": {},
   "outputs": [],
   "source": [
    "car_model=[]\n",
    "reliability_index=[]\n",
    "for i in range(1,334):\n",
    "    url = \"https://www.reliabilityindex.com/reliability/search/{i}\".format(i=i)\n",
    "    response = get(url)\n",
    "    soup = BeautifulSoup(response.content, 'html.parser')\n",
    "    table = soup.find('h2', {'id': 'car_name'}).get_text()\n",
    "    splitted_string = table.split(\"\\n\")\n",
    "    # Car model  \n",
    "    car_model.append(splitted_string[0])\n",
    "    # Reliability index\n",
    "    splitted_string2 = soup.body.div.tr.tr.get_text().split(\"x\")\n",
    "    reliability_index.append(splitted_string2[1])"
   ]
  },
  {
   "cell_type": "code",
   "execution_count": 3,
   "metadata": {},
   "outputs": [
    {
     "data": {
      "text/plain": [
       "333"
      ]
     },
     "execution_count": 3,
     "metadata": {},
     "output_type": "execute_result"
    }
   ],
   "source": [
    "len(reliability_index)"
   ]
  },
  {
   "cell_type": "code",
   "execution_count": 49,
   "metadata": {},
   "outputs": [],
   "source": [
    "# Create an empty df\n",
    "my_df  = pd.DataFrame()\n",
    "\n",
    "# Add the columns \n",
    "my_df['car_model'] = car_model\n",
    "my_df['reliability_index'] = reliability_index"
   ]
  },
  {
   "cell_type": "code",
   "execution_count": 50,
   "metadata": {},
   "outputs": [
    {
     "name": "stdout",
     "output_type": "stream",
     "text": [
      "<class 'pandas.core.frame.DataFrame'>\n",
      "RangeIndex: 333 entries, 0 to 332\n",
      "Data columns (total 2 columns):\n",
      " #   Column             Non-Null Count  Dtype \n",
      "---  ------             --------------  ----- \n",
      " 0   car_model          333 non-null    object\n",
      " 1   reliability_index  333 non-null    object\n",
      "dtypes: object(2)\n",
      "memory usage: 5.3+ KB\n"
     ]
    }
   ],
   "source": [
    "# Check the df info\n",
    "my_df.info()"
   ]
  },
  {
   "cell_type": "code",
   "execution_count": 51,
   "metadata": {},
   "outputs": [],
   "source": [
    "# Change the reliability_index to numeric, and then to integer. Pandas wouldn't allow string to integer in this case.\n",
    "my_df['reliability_index'] = pd.to_numeric(my_df['reliability_index'])\n",
    "my_df[['reliability_index']] = my_df[['reliability_index']].applymap(np.int64)"
   ]
  },
  {
   "cell_type": "code",
   "execution_count": 52,
   "metadata": {},
   "outputs": [
    {
     "data": {
      "text/html": [
       "<div>\n",
       "<style scoped>\n",
       "    .dataframe tbody tr th:only-of-type {\n",
       "        vertical-align: middle;\n",
       "    }\n",
       "\n",
       "    .dataframe tbody tr th {\n",
       "        vertical-align: top;\n",
       "    }\n",
       "\n",
       "    .dataframe thead th {\n",
       "        text-align: right;\n",
       "    }\n",
       "</style>\n",
       "<table border=\"1\" class=\"dataframe\">\n",
       "  <thead>\n",
       "    <tr style=\"text-align: right;\">\n",
       "      <th></th>\n",
       "      <th>car_model</th>\n",
       "      <th>reliability_index</th>\n",
       "    </tr>\n",
       "  </thead>\n",
       "  <tbody>\n",
       "    <tr>\n",
       "      <th>0</th>\n",
       "      <td>Alfa Romeo 147</td>\n",
       "      <td>131</td>\n",
       "    </tr>\n",
       "    <tr>\n",
       "      <th>1</th>\n",
       "      <td>Alfa Romeo 159</td>\n",
       "      <td>210</td>\n",
       "    </tr>\n",
       "    <tr>\n",
       "      <th>2</th>\n",
       "      <td>Alfa Romeo Brera</td>\n",
       "      <td>233</td>\n",
       "    </tr>\n",
       "    <tr>\n",
       "      <th>3</th>\n",
       "      <td>Alfa Romeo GIULIETTA</td>\n",
       "      <td>78</td>\n",
       "    </tr>\n",
       "    <tr>\n",
       "      <th>4</th>\n",
       "      <td>Alfa Romeo GT</td>\n",
       "      <td>204</td>\n",
       "    </tr>\n",
       "    <tr>\n",
       "      <th>...</th>\n",
       "      <td>...</td>\n",
       "      <td>...</td>\n",
       "    </tr>\n",
       "    <tr>\n",
       "      <th>328</th>\n",
       "      <td>Volvo V70</td>\n",
       "      <td>99</td>\n",
       "    </tr>\n",
       "    <tr>\n",
       "      <th>329</th>\n",
       "      <td>Volvo V70</td>\n",
       "      <td>79</td>\n",
       "    </tr>\n",
       "    <tr>\n",
       "      <th>330</th>\n",
       "      <td>Volvo XC60</td>\n",
       "      <td>112</td>\n",
       "    </tr>\n",
       "    <tr>\n",
       "      <th>331</th>\n",
       "      <td>Volvo XC70</td>\n",
       "      <td>167</td>\n",
       "    </tr>\n",
       "    <tr>\n",
       "      <th>332</th>\n",
       "      <td>Volvo XC90</td>\n",
       "      <td>191</td>\n",
       "    </tr>\n",
       "  </tbody>\n",
       "</table>\n",
       "<p>333 rows × 2 columns</p>\n",
       "</div>"
      ],
      "text/plain": [
       "                car_model  reliability_index\n",
       "0          Alfa Romeo 147                131\n",
       "1          Alfa Romeo 159                210\n",
       "2        Alfa Romeo Brera                233\n",
       "3    Alfa Romeo GIULIETTA                 78\n",
       "4           Alfa Romeo GT                204\n",
       "..                    ...                ...\n",
       "328             Volvo V70                 99\n",
       "329             Volvo V70                 79\n",
       "330            Volvo XC60                112\n",
       "331            Volvo XC70                167\n",
       "332            Volvo XC90                191\n",
       "\n",
       "[333 rows x 2 columns]"
      ]
     },
     "execution_count": 52,
     "metadata": {},
     "output_type": "execute_result"
    }
   ],
   "source": [
    "my_df"
   ]
  },
  {
   "cell_type": "markdown",
   "metadata": {},
   "source": [
    "We want to calculate the average reliability rating for each make. To do this, we will create a mask of each make using a string search for each make."
   ]
  },
  {
   "cell_type": "code",
   "execution_count": 64,
   "metadata": {},
   "outputs": [],
   "source": [
    "# We will create a mask to filter each car model\n",
    "audi_mask = my_df.car_model.str.lower().str.contains('audi')\n",
    "bmw_mask = my_df.car_model.str.lower().str.contains('bmw')\n",
    "ford_mask = my_df.car_model.str.lower().str.contains('ford')\n",
    "hyundai_mask = my_df.car_model.str.lower().str.contains('hyundai')\n",
    "mercedes_mask = my_df.car_model.str.lower().str.contains('mercedes')\n",
    "toyota_mask = my_df.car_model.str.lower().str.contains('toyota')\n",
    "vw_mask = my_df.car_model.str.lower().str.contains('volkswagen')"
   ]
  },
  {
   "cell_type": "code",
   "execution_count": 66,
   "metadata": {},
   "outputs": [],
   "source": [
    "# We will then create a list of the makes and a list of the masks\n",
    "make_list = ['Audi','BMW','Ford','Hyundai','Mercedes',\n",
    "            'Toyota', 'Volkswagen']\n",
    "mask_list = [audi_mask, bmw_mask, ford_mask,\n",
    "            hyundai_mask, mercedes_mask, toyota_mask,vw_mask]\n",
    "\n",
    "# Create a list of the calculated means\n",
    "avg_reliability_rating = [round(my_df[mask]['reliability_index'].mean(),0) for mask in mask_list]"
   ]
  },
  {
   "cell_type": "code",
   "execution_count": 67,
   "metadata": {},
   "outputs": [
    {
     "data": {
      "text/html": [
       "<div>\n",
       "<style scoped>\n",
       "    .dataframe tbody tr th:only-of-type {\n",
       "        vertical-align: middle;\n",
       "    }\n",
       "\n",
       "    .dataframe tbody tr th {\n",
       "        vertical-align: top;\n",
       "    }\n",
       "\n",
       "    .dataframe thead th {\n",
       "        text-align: right;\n",
       "    }\n",
       "</style>\n",
       "<table border=\"1\" class=\"dataframe\">\n",
       "  <thead>\n",
       "    <tr style=\"text-align: right;\">\n",
       "      <th></th>\n",
       "      <th>make</th>\n",
       "      <th>avg_reliability_rating</th>\n",
       "    </tr>\n",
       "  </thead>\n",
       "  <tbody>\n",
       "    <tr>\n",
       "      <th>0</th>\n",
       "      <td>Audi</td>\n",
       "      <td>219.0</td>\n",
       "    </tr>\n",
       "    <tr>\n",
       "      <th>1</th>\n",
       "      <td>BMW</td>\n",
       "      <td>249.0</td>\n",
       "    </tr>\n",
       "    <tr>\n",
       "      <th>2</th>\n",
       "      <td>Ford</td>\n",
       "      <td>83.0</td>\n",
       "    </tr>\n",
       "    <tr>\n",
       "      <th>3</th>\n",
       "      <td>Hyundai</td>\n",
       "      <td>72.0</td>\n",
       "    </tr>\n",
       "    <tr>\n",
       "      <th>4</th>\n",
       "      <td>Mercedes</td>\n",
       "      <td>215.0</td>\n",
       "    </tr>\n",
       "    <tr>\n",
       "      <th>5</th>\n",
       "      <td>Toyota</td>\n",
       "      <td>64.0</td>\n",
       "    </tr>\n",
       "    <tr>\n",
       "      <th>6</th>\n",
       "      <td>Volkswagen</td>\n",
       "      <td>121.0</td>\n",
       "    </tr>\n",
       "  </tbody>\n",
       "</table>\n",
       "</div>"
      ],
      "text/plain": [
       "         make  avg_reliability_rating\n",
       "0        Audi                   219.0\n",
       "1         BMW                   249.0\n",
       "2        Ford                    83.0\n",
       "3     Hyundai                    72.0\n",
       "4    Mercedes                   215.0\n",
       "5      Toyota                    64.0\n",
       "6  Volkswagen                   121.0"
      ]
     },
     "execution_count": 67,
     "metadata": {},
     "output_type": "execute_result"
    }
   ],
   "source": [
    "# Create the df by zipping both lists, with columns specified \n",
    "df_reliability_index = pd.DataFrame(list(zip(make_list, avg_reliability_rating)), \n",
    "               columns =['make', 'avg_reliability_rating']) \n",
    "df_reliability_index"
   ]
  }
 ],
 "metadata": {
  "kernelspec": {
   "display_name": "Python 3",
   "language": "python",
   "name": "python3"
  },
  "language_info": {
   "codemirror_mode": {
    "name": "ipython",
    "version": 3
   },
   "file_extension": ".py",
   "mimetype": "text/x-python",
   "name": "python",
   "nbconvert_exporter": "python",
   "pygments_lexer": "ipython3",
   "version": "3.8.5"
  }
 },
 "nbformat": 4,
 "nbformat_minor": 4
}
